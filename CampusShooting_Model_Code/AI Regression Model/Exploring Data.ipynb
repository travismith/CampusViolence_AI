{
 "cells": [
  {
   "cell_type": "markdown",
   "source": [],
   "metadata": {
    "collapsed": false
   },
   "id": "51060b5df6fc3d44"
  },
  {
   "cell_type": "code",
   "outputs": [
    {
     "ename": "ModuleNotFoundError",
     "evalue": "No module named 'pandas'",
     "output_type": "error",
     "traceback": [
      "\u001B[1;31m---------------------------------------------------------------------------\u001B[0m",
      "\u001B[1;31mModuleNotFoundError\u001B[0m                       Traceback (most recent call last)",
      "Cell \u001B[1;32mIn[1], line 1\u001B[0m\n\u001B[1;32m----> 1\u001B[0m \u001B[38;5;28;01mimport\u001B[39;00m \u001B[38;5;21;01mpandas\u001B[39;00m \u001B[38;5;28;01mas\u001B[39;00m \u001B[38;5;21;01mpd\u001B[39;00m\n\u001B[0;32m      3\u001B[0m \u001B[38;5;66;03m# Replace the path and sheet name with your Excel file's actual path and sheet name\u001B[39;00m\n\u001B[0;32m      4\u001B[0m path \u001B[38;5;241m=\u001B[39m \u001B[38;5;124mr\u001B[39m\u001B[38;5;124m'\u001B[39m\u001B[38;5;124mC:\u001B[39m\u001B[38;5;124m\\\u001B[39m\u001B[38;5;124mUsers\u001B[39m\u001B[38;5;124m\\\u001B[39m\u001B[38;5;124mtravi\u001B[39m\u001B[38;5;124m\\\u001B[39m\u001B[38;5;124mOneDrive - North Dakota University System\u001B[39m\u001B[38;5;124m\\\u001B[39m\u001B[38;5;124mDocuments\u001B[39m\u001B[38;5;124m\\\u001B[39m\u001B[38;5;124mAcademic\u001B[39m\u001B[38;5;124m\\\u001B[39m\u001B[38;5;124mResearch\u001B[39m\u001B[38;5;124m\\\u001B[39m\u001B[38;5;124mCampus Violence Prediction\u001B[39m\u001B[38;5;124m\\\u001B[39m\u001B[38;5;124mConsolidated Data.xlsx\u001B[39m\u001B[38;5;124m'\u001B[39m\n",
      "\u001B[1;31mModuleNotFoundError\u001B[0m: No module named 'pandas'"
     ]
    }
   ],
   "source": [
    "import pandas as pd\n",
    "\n",
    "# Replace the path and sheet name with your Excel file's actual path and sheet name\n",
    "path = r'C:\\Users\\travi\\OneDrive - North Dakota University System\\Documents\\Academic\\Research\\Campus Violence Prediction\\Consolidated Data.xlsx'\n",
    "\n",
    "FPD = pd.read_excel(path, sheet_name='Firearm Policy Database', engine='openpyxl')\n",
    "\n",
    "# Display the first few rows\n",
    "FPD.head()\n"
   ],
   "metadata": {
    "collapsed": false,
    "ExecuteTime": {
     "end_time": "2024-03-19T18:38:51.737091Z",
     "start_time": "2024-03-19T18:38:50.917405Z"
    }
   },
   "id": "7ec1e09626aedfa",
   "execution_count": 1
  },
  {
   "cell_type": "code",
   "outputs": [],
   "source": [],
   "metadata": {
    "collapsed": false
   },
   "id": "cba439f4577dc8b0"
  }
 ],
 "metadata": {
  "kernelspec": {
   "display_name": "Python 3",
   "language": "python",
   "name": "python3"
  },
  "language_info": {
   "codemirror_mode": {
    "name": "ipython",
    "version": 2
   },
   "file_extension": ".py",
   "mimetype": "text/x-python",
   "name": "python",
   "nbconvert_exporter": "python",
   "pygments_lexer": "ipython2",
   "version": "2.7.6"
  }
 },
 "nbformat": 4,
 "nbformat_minor": 5
}
